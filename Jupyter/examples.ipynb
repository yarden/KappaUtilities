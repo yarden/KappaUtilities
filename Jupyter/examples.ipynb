{
 "cells": [
  {
   "cell_type": "code",
   "execution_count": null,
   "metadata": {},
   "outputs": [],
   "source": [
    "%matplotlib notebook"
   ]
  },
  {
   "cell_type": "code",
   "execution_count": null,
   "metadata": {},
   "outputs": [],
   "source": [
    "import kappathings as kt\n",
    "import kappasnap as ks\n",
    "import kappaviz as viz\n",
    "import kappagraph as kg\n",
    "import kappamorph as km\n",
    "import kapplot as kp\n",
    "\n",
    "import networkx as nx\n",
    "import pandas as pd\n",
    "\n",
    "import matplotlib.pyplot as plt"
   ]
  },
  {
   "cell_type": "markdown",
   "metadata": {},
   "source": [
    "## kappaviz and kappagraph"
   ]
  },
  {
   "cell_type": "markdown",
   "metadata": {},
   "source": [
    "##### How many and which complexes contain cycles?"
   ]
  },
  {
   "cell_type": "code",
   "execution_count": null,
   "metadata": {},
   "outputs": [],
   "source": [
    "kapparing = 'A(r[.] l[1]),A(r[1] l[2] m[7]),A(r[2] l[3]),A(r[3] l[4]),A(r[4] l[5] m[7]),A(r[5] l[6]),A(r[6] l[.])'\n",
    "c = kt.KappaComplex(kapparing)\n",
    "c.show()\n",
    "r = viz.Renderer(c)\n",
    "g = r.Graph\n",
    "cycle = g.get_cycle()\n",
    "print(cycle)"
   ]
  },
  {
   "cell_type": "code",
   "execution_count": null,
   "metadata": {},
   "outputs": [],
   "source": [
    "r.render()"
   ]
  },
  {
   "cell_type": "code",
   "execution_count": null,
   "metadata": {},
   "outputs": [],
   "source": [
    "r.color_edgelists(edge_list=cycle, line_width=2, edge_color='red')"
   ]
  },
  {
   "cell_type": "code",
   "execution_count": null,
   "metadata": {},
   "outputs": [],
   "source": [
    "r.delete_edgelists(edge_list=cycle)"
   ]
  },
  {
   "cell_type": "code",
   "execution_count": null,
   "metadata": {},
   "outputs": [],
   "source": [
    "r.render()"
   ]
  },
  {
   "cell_type": "code",
   "execution_count": null,
   "metadata": {},
   "outputs": [],
   "source": [
    "r.Graph.delete_edgelists(edge_list=cycle)"
   ]
  },
  {
   "cell_type": "code",
   "execution_count": null,
   "metadata": {},
   "outputs": [],
   "source": [
    "r.layout()\n",
    "r.render()"
   ]
  },
  {
   "cell_type": "code",
   "execution_count": null,
   "metadata": {},
   "outputs": [],
   "source": [
    "data_dir='../TestData/Jupyter/kappaviz_and_kappagraph/'\n",
    "snapaxapc5 = ks.SnapShot(data_dir + 'snap_E5.ka')\n",
    "\n",
    "c = {}\n",
    "w = {}\n",
    "for complx in snapaxapc5.complexes:\n",
    "    g = kg.KappaGraph(complx)\n",
    "    cycle = g.get_cycle()\n",
    "    if cycle:\n",
    "        if complx.size in c:\n",
    "            c[complx.size] += complx.count\n",
    "            w[complx.size].append(complx)\n",
    "        else:\n",
    "            c[complx.size] = complx.count\n",
    "            w[complx.size] = [complx]\n",
    "print(c)"
   ]
  },
  {
   "cell_type": "markdown",
   "metadata": {},
   "source": [
    "##### rendering a complex (simple case)"
   ]
  },
  {
   "cell_type": "code",
   "execution_count": null,
   "metadata": {},
   "outputs": [],
   "source": [
    "c21kt = w[21][0]\n",
    "r = viz.Renderer(c21kt)"
   ]
  },
  {
   "cell_type": "code",
   "execution_count": null,
   "metadata": {},
   "outputs": [],
   "source": [
    "nx.get_edge_attributes(r.nxGraph,'bond')"
   ]
  },
  {
   "cell_type": "code",
   "execution_count": null,
   "metadata": {},
   "outputs": [],
   "source": [
    "r.render()"
   ]
  },
  {
   "cell_type": "code",
   "execution_count": null,
   "metadata": {},
   "outputs": [],
   "source": [
    "g21_cyc = r.Graph.get_cycle()"
   ]
  },
  {
   "cell_type": "code",
   "execution_count": null,
   "metadata": {},
   "outputs": [],
   "source": [
    "r.color_edgelists(edge_list=g21_cyc, line_width=2, edge_color='red')"
   ]
  },
  {
   "cell_type": "code",
   "execution_count": null,
   "metadata": {},
   "outputs": [],
   "source": [
    "center = nx.center(r.nxGraph)\n",
    "print(center)"
   ]
  },
  {
   "cell_type": "code",
   "execution_count": null,
   "metadata": {},
   "outputs": [],
   "source": [
    "radius = nx.radius(r.nxGraph)\n",
    "print(radius)"
   ]
  },
  {
   "cell_type": "code",
   "execution_count": null,
   "metadata": {},
   "outputs": [],
   "source": [
    "r.color_nodelist(center, color='g', line_width=3)"
   ]
  },
  {
   "cell_type": "markdown",
   "metadata": {},
   "source": [
    "##### A more complicated mixture and larger complex"
   ]
  },
  {
   "cell_type": "code",
   "execution_count": null,
   "metadata": {},
   "outputs": [],
   "source": [
    "snapaxapc6 = ks.SnapShot(data_dir + 'snap_E6.ka')\n",
    "snapaxapc6_df = pd.DataFrame(snapaxapc6.get_size_distribution(dictionary=True))\n",
    "c = {}\n",
    "w = {}\n",
    "for complx in snapaxapc6.complexes:\n",
    "    g = kg.KappaGraph(complx)\n",
    "    cycle = g.get_cycle()\n",
    "    if cycle:\n",
    "        if complx.size in c:\n",
    "            c[complx.size] += complx.count\n",
    "            w[complx.size].append(complx)\n",
    "        else:\n",
    "            c[complx.size] = complx.count\n",
    "            w[complx.size] = [complx]\n",
    "print(c)"
   ]
  },
  {
   "cell_type": "code",
   "execution_count": null,
   "metadata": {},
   "outputs": [],
   "source": [
    "c102kt = w[102][0]"
   ]
  },
  {
   "cell_type": "code",
   "execution_count": null,
   "metadata": {},
   "outputs": [],
   "source": [
    "r2 = viz.Renderer(c102kt)"
   ]
  },
  {
   "cell_type": "code",
   "execution_count": null,
   "metadata": {},
   "outputs": [],
   "source": [
    "r2.render(node_size=15, line_width=0.5, edge_color='gray', labels='')"
   ]
  },
  {
   "cell_type": "markdown",
   "metadata": {},
   "source": [
    "##### the delete methods of Renderer do not modify the underlying graph but only its display\n",
    "\n",
    "The intent is to enable different views of the graph"
   ]
  },
  {
   "cell_type": "code",
   "execution_count": null,
   "metadata": {},
   "outputs": [],
   "source": [
    "basis, n = r2.Graph.get_minimum_cycle_basis()"
   ]
  },
  {
   "cell_type": "code",
   "execution_count": null,
   "metadata": {},
   "outputs": [],
   "source": [
    "r2.color_edgelists(edge_list=basis[1], line_width=2, edge_color='red')"
   ]
  },
  {
   "cell_type": "code",
   "execution_count": null,
   "metadata": {},
   "outputs": [],
   "source": [
    "r2.delete_edgelists(edge_list=basis[1])"
   ]
  },
  {
   "cell_type": "code",
   "execution_count": null,
   "metadata": {},
   "outputs": [],
   "source": [
    "# restore\n",
    "r2.render(node_size=10, line_width=0.5, edge_color='gray', labels='')"
   ]
  },
  {
   "cell_type": "code",
   "execution_count": null,
   "metadata": {},
   "outputs": [],
   "source": [
    "r2.color_edgelists(edge_list=basis, line_width=0.5, edge_color='red')"
   ]
  },
  {
   "cell_type": "code",
   "execution_count": null,
   "metadata": {},
   "outputs": [],
   "source": [
    "center = nx.center(r2.nxGraph)"
   ]
  },
  {
   "cell_type": "code",
   "execution_count": null,
   "metadata": {},
   "outputs": [],
   "source": [
    "r2.color_nodelist(node_list=center, color='g', line_width=5)"
   ]
  },
  {
   "cell_type": "code",
   "execution_count": null,
   "metadata": {},
   "outputs": [],
   "source": [
    "r2.delete_nodelist(node_list=center)"
   ]
  },
  {
   "cell_type": "markdown",
   "metadata": {},
   "source": [
    "To modify the networkx-graph representation of the complex act through nxGraph."
   ]
  },
  {
   "cell_type": "code",
   "execution_count": null,
   "metadata": {},
   "outputs": [],
   "source": [
    "r2.Graph.delete_nodelist(node_list=center)"
   ]
  },
  {
   "cell_type": "markdown",
   "metadata": {},
   "source": [
    "Make a copy of the renderer of the original graph (to preserve display settings like type-coloring). This will also get you a new figure object to play with."
   ]
  },
  {
   "cell_type": "code",
   "execution_count": null,
   "metadata": {},
   "outputs": [],
   "source": [
    "r2.layout()"
   ]
  },
  {
   "cell_type": "code",
   "execution_count": null,
   "metadata": {},
   "outputs": [],
   "source": [
    "r2.render(node_size=10, line_width=0.5, edge_color='gray', labels='')"
   ]
  },
  {
   "cell_type": "markdown",
   "metadata": {},
   "source": [
    "##### a large complex\n",
    "(get a beverage; this will take a while...)"
   ]
  },
  {
   "cell_type": "code",
   "execution_count": null,
   "metadata": {},
   "outputs": [],
   "source": [
    "c10096kt = w[10096][0]\n",
    "r = viz.Renderer(c10096kt)"
   ]
  },
  {
   "cell_type": "code",
   "execution_count": null,
   "metadata": {},
   "outputs": [],
   "source": [
    "g10096_cyc = r.Graph.get_cycle()"
   ]
  },
  {
   "cell_type": "code",
   "execution_count": null,
   "metadata": {},
   "outputs": [],
   "source": [
    "# r.html_render(cycle=g10096_cyc, node_size=1, line_width=0.2)"
   ]
  },
  {
   "cell_type": "code",
   "execution_count": null,
   "metadata": {
    "scrolled": true
   },
   "outputs": [],
   "source": [
    "r.render(node_size=0.1, line_width=0.1, edge_color='gray', labels='')"
   ]
  },
  {
   "cell_type": "code",
   "execution_count": null,
   "metadata": {},
   "outputs": [],
   "source": [
    "r.color_edgelists(edge_list=g10096_cyc, line_width=2, edge_color='red')"
   ]
  },
  {
   "cell_type": "markdown",
   "metadata": {},
   "source": [
    "## kapplot"
   ]
  },
  {
   "cell_type": "code",
   "execution_count": null,
   "metadata": {},
   "outputs": [],
   "source": [
    "data_dir='../TestData/Jupyter/kapplot/'\n",
    "\n",
    "# help(cmd.rename)\n",
    "# cmd.rename(dir=data_dir, root='snap__')\n",
    "\n",
    "snap1 = ks.SnapShot(data_dir + 'snap__98.ka')\n",
    "sd_df1 = pd.DataFrame(snap1.get_size_distribution(dictionary=True))\n",
    "\n",
    "snap2 = ks.SnapShot(data_dir + 'snap__90.ka')\n",
    "sd_df2 = pd.DataFrame(snap2.get_size_distribution(dictionary=True))\n",
    "\n",
    "snap3 = ks.SnapShot(data_dir + 'snap__20.ka')\n",
    "sd_df3 = pd.DataFrame(snap3.get_size_distribution(dictionary=True))\n",
    "\n",
    "p1 = kp.XY_plot(sd_df1, xmajor=2, ymajor=2000, params={'linestyle': '-',\n",
    "                                                         'label': 'snap98',\n",
    "                                                         'color': 'r',\n",
    "                                                         'markerfacecolor': 'r'})\n",
    "p1.add(sd_df2, xmajor=2, ymajor=2000, params={'linestyle': '-',\n",
    "                                                'label': 'snap90',\n",
    "                                                'color': 'g',\n",
    "                                                'markerfacecolor': 'g'})\n",
    "p1.add(sd_df3, xmajor=2, ymajor=2000, params={'linestyle': '-',\n",
    "                                                'label': 'snap20',\n",
    "                                                'color': 'b',\n",
    "                                                'markerfacecolor': 'b'})\n",
    "p1.ax.legend()\n",
    "kp.show()"
   ]
  },
  {
   "cell_type": "code",
   "execution_count": null,
   "metadata": {},
   "outputs": [],
   "source": [
    "data_dir='/Users/wf7/Dropbox (HMS)/Hector-Walter/Axn_APC_parameter_sweep/ax_ax_1000__ap_ax_100__ap_ap_100__in_ax_100__in_ap_100__uni_f_1e5/'\n",
    "snapaxapc5 = ks.SnapShot(data_dir + 'snap_T_1.0.ka')\n",
    "snapaxapc5_df = pd.DataFrame(snapaxapc5.get_size_distribution(dictionary=True))\n",
    "p2 = kp.XY_plot(snapaxapc5_df, xmajor=2, ymajor=20000, params={'linestyle': '-',\n",
    "                                                             'label': 'snapaxapc5',\n",
    "                                                             'color': 'r',\n",
    "                                                             'markerfacecolor': 'r'})"
   ]
  },
  {
   "cell_type": "code",
   "execution_count": null,
   "metadata": {},
   "outputs": [],
   "source": [
    "data_dir='/Users/wf7/Dropbox (HMS)/Hector-Walter/Axn_APC_parameter_sweep/ax_ax_1000__ap_ax_100__ap_ap_100__in_ax_100__in_ap_100__uni_f_1e6/'\n",
    "snapaxapc6 = ks.SnapShot(data_dir + 'snap_T_1.0.ka')\n",
    "snapaxapc6_df = pd.DataFrame(snapaxapc6.get_size_distribution(dictionary=True))\n",
    "\n",
    "p3 = kp.XY_plot(snapaxapc6_df, xmajor=0, ymajor=0, params={'linestyle': '-',\n",
    "                                                             'label': 'snapaxapc6',\n",
    "                                                             'color': 'r',\n",
    "                                                             'markerfacecolor': 'r'})"
   ]
  }
 ],
 "metadata": {
  "kernelspec": {
   "display_name": "Python 3",
   "language": "python",
   "name": "python3"
  },
  "language_info": {
   "codemirror_mode": {
    "name": "ipython",
    "version": 3
   },
   "file_extension": ".py",
   "mimetype": "text/x-python",
   "name": "python",
   "nbconvert_exporter": "python",
   "pygments_lexer": "ipython3",
   "version": "3.7.9"
  }
 },
 "nbformat": 4,
 "nbformat_minor": 4
}
